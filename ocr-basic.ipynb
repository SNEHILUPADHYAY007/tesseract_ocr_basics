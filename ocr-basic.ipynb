{
 "cells": [
  {
   "cell_type": "markdown",
   "id": "9e2fd7f6-f8a8-4cbc-aa19-6ef54896d8db",
   "metadata": {},
   "source": [
    "# Basic Imports"
   ]
  },
  {
   "cell_type": "code",
   "execution_count": null,
   "id": "4f3327b8-0b8a-4c3a-ab39-cf9cce7d3782",
   "metadata": {},
   "outputs": [],
   "source": [
    "import pytesseract\n",
    "import numpy as np\n",
    "import cv2            #library to work with computer vision"
   ]
  },
  {
   "cell_type": "markdown",
   "id": "4fd97fb1-ed65-4a59-befb-29a99082a737",
   "metadata": {},
   "source": [
    "# Reading the Image File and doing pre-processing\n",
    "*By default we get BGR images, but to use tesseract uses RGB format for which .cvtColor(img,cv2.COLORBGR2RGB) has been used*"
   ]
  },
  {
   "cell_type": "code",
   "execution_count": 2,
   "id": "51fbea81-88dc-4940-b4b9-fd87de327f2b",
   "metadata": {},
   "outputs": [],
   "source": [
    "# Reading image file\n",
    "img = cv2.imread('images/test01.jpg')\n",
    "#Converting img from BGR -> RGB to use it in tesseract\n",
    "rgb = cv2.cvtColor(img, cv2.COLOR_BGR2RGB)\n",
    "# Showing the image\n",
    "cv2.imshow('test', rgb)\n",
    "# As kernel and Python both will be using the env. So we have to free one. \n",
    "cv2.waitKey(0)\n",
    "cv2.destroyAllWindows()"
   ]
  },
  {
   "cell_type": "markdown",
   "id": "709239ee-ae7a-49b1-af16-983a61fc805b",
   "metadata": {},
   "source": [
    "# Getting text from the Image"
   ]
  },
  {
   "cell_type": "code",
   "execution_count": 3,
   "id": "835748de-ab34-4f30-a71c-6ed8e3da9407",
   "metadata": {},
   "outputs": [
    {
     "name": "stdout",
     "output_type": "stream",
     "text": [
      "Testing the\n",
      "OCR...\n",
      "\n"
     ]
    }
   ],
   "source": [
    "# Getting text from the Image\n",
    "text = pytesseract.image_to_string(rgb)\n",
    "print(text)"
   ]
  },
  {
   "cell_type": "markdown",
   "id": "6574619d-6f6a-4c8c-80a3-d24d0d8c1b2e",
   "metadata": {},
   "source": [
    "# Using image having PORTUGESE text. \n",
    "#### Download the traineddataset from the official tesseract opensource and place it in tessdata folder. \n",
    "#### tesseract-ocr/tessdata/tree/main"
   ]
  },
  {
   "cell_type": "code",
   "execution_count": 4,
   "id": "2baf2c34-9b62-4ee2-8c8b-4d75e6b9267b",
   "metadata": {},
   "outputs": [],
   "source": [
    "img_2 = cv2.imread('images/test02-02.jpg')\n",
    "img_2_rgb = cv2.cvtColor(img_2, cv2.COLOR_BGR2RGB)\n",
    "cv2.imshow('test', img_2_rgb)\n",
    "cv2.waitKey(0)\n",
    "cv2.destroyAllWindows()"
   ]
  },
  {
   "cell_type": "code",
   "execution_count": 5,
   "id": "87b20b34-6bea-4195-a9d0-b9683c363494",
   "metadata": {},
   "outputs": [
    {
     "name": "stdout",
     "output_type": "stream",
     "text": [
      "inteligência\n",
      "artificial e visão\n",
      "computacional\n",
      "\n"
     ]
    }
   ],
   "source": [
    "text_2 = pytesseract.image_to_string(img_2_rgb, lang = 'por')\n",
    "print(text_2)"
   ]
  },
  {
   "cell_type": "markdown",
   "id": "e19ded46-ef08-44f6-9475-1ce598a3e50c",
   "metadata": {},
   "source": [
    "# To check which all languages are available to use."
   ]
  },
  {
   "cell_type": "code",
   "execution_count": 6,
   "id": "7be9e4d4-df23-4690-96a6-61be311a26a3",
   "metadata": {},
   "outputs": [
    {
     "name": "stdout",
     "output_type": "stream",
     "text": [
      "List of available languages in \"C:\\Program Files\\Tesseract-OCR/tessdata/\" (3):\n",
      "eng\n",
      "osd\n",
      "por\n"
     ]
    }
   ],
   "source": [
    "!tesseract --list-langs"
   ]
  },
  {
   "cell_type": "markdown",
   "id": "d19044ad-b5a0-4734-add1-9de8a14b149a",
   "metadata": {},
   "source": [
    "# Page Segmentation Modes(PSM):- \n",
    "*Set of Modes available to be passed before sending the image to tesseract to help the OCR engine to recognize and properly interpret the text in various types of docs layouts*"
   ]
  },
  {
   "cell_type": "code",
   "execution_count": 7,
   "id": "acd87b12-7933-4d93-842a-97df9e3d829c",
   "metadata": {},
   "outputs": [
    {
     "name": "stdout",
     "output_type": "stream",
     "text": [
      "Page segmentation modes:\n",
      "  0    Orientation and script detection (OSD) only.\n",
      "  1    Automatic page segmentation with OSD.\n",
      "  2    Automatic page segmentation, but no OSD, or OCR. (not implemented)\n",
      "  3    Fully automatic page segmentation, but no OSD. (Default)\n",
      "  4    Assume a single column of text of variable sizes.\n",
      "  5    Assume a single uniform block of vertically aligned text.\n",
      "  6    Assume a single uniform block of text.\n",
      "  7    Treat the image as a single text line.\n",
      "  8    Treat the image as a single word.\n",
      "  9    Treat the image as a single word in a circle.\n",
      " 10    Treat the image as a single character.\n",
      " 11    Sparse text. Find as much text as possible in no particular order.\n",
      " 12    Sparse text with OSD.\n",
      " 13    Raw line. Treat the image as a single text line,\n",
      "       bypassing hacks that are Tesseract-specific.\n"
     ]
    }
   ],
   "source": [
    "# To check the PSM modes\n",
    "!tesseract --help-psm"
   ]
  },
  {
   "cell_type": "code",
   "execution_count": 11,
   "id": "77219c34-3e08-420d-98df-04f79d2d9a10",
   "metadata": {},
   "outputs": [],
   "source": [
    "# Image File Path\n",
    "psm_image_path = ['images/PSM/page-book.jpg', 'images/PSM/exit.jpg']\n",
    "img = cv2.imread(psm_image_path[0])\n",
    "cv2.imshow('Test',img)\n",
    "cv2.waitKey(0)\n",
    "cv2.destroyAllWindows()"
   ]
  },
  {
   "cell_type": "code",
   "execution_count": 16,
   "id": "2c8c3eee-741f-42ed-bacc-e1bf4fec7f9b",
   "metadata": {},
   "outputs": [
    {
     "name": "stdout",
     "output_type": "stream",
     "text": [
      "A inteligência humana é caracterizada pela capacidade de se\n",
      "adaptar a mudanças. É resultado de gerações de seleção natural\n",
      "Sobre indivíduos com capacidade para lidar com as novas ciruns-\n",
      "portanto, temer as transformações. Preci-\n",
      "\n",
      "tâncias. Não devemos,\n",
      "samos apenas fazer com que elas operem em nosso benefício.\n",
      "\n"
     ]
    }
   ],
   "source": [
    "# Pre-processing\n",
    "rgb_img = cv2.cvtColor(img, cv2.COLOR_BGR2RGB)\n",
    "img_text = pytesseract.image_to_string(rgb_img, lang = 'por')\n",
    "# Image not detected correctly due to segmentation issue.\n",
    "print(img_text)\n"
   ]
  },
  {
   "cell_type": "code",
   "execution_count": 18,
   "id": "8a7a240e-1f30-4920-8534-b295c4d062b6",
   "metadata": {},
   "outputs": [
    {
     "name": "stdout",
     "output_type": "stream",
     "text": [
      "A inteligência humana é caracterizada pela capacidade de se\n",
      "adaptar a mudanças. É resultado de gerações de seleção natural\n",
      "Sobre indivíduos com capacidade para lidar com as novas ciruns-\n",
      "tâncias. Não devemos, portanto, temer as transformações. Preci-\n",
      "samos apenas fazer com que elas operem em nosso benefício.\n",
      "\n"
     ]
    }
   ],
   "source": [
    "# Setting the mode to 6 and passing as the configuration\n",
    "config_tesseract = '--psm 6' \n",
    "img_text = pytesseract.image_to_string(rgb_img, lang = 'por', config = config_tesseract)\n",
    "print(img_text)"
   ]
  },
  {
   "cell_type": "markdown",
   "id": "4169ddc8-22c5-4bbf-b60a-2a8d6f66651d",
   "metadata": {},
   "source": [
    "# Page Orientation Detection(OSD)\n",
    "*Page orientation detection, often referred to as Orientation and Script Detection (OSD), is a process used in Optical Character Recognition (OCR) to determine the orientation of the text on a page and identify the script or language of the text. This is important for accurately recognizing and processing the text in images or scanned documents, especially when the text might be rotated or the document contains multiple languages or scripts.*\n",
    "\n",
    "### We can also use matplotlib and PIL lib\n",
    "```\n",
    "from PIL import Image\n",
    "import matplotlib.pyplot as plt\n",
    "img = Image.open('/content/book01.jpg')\n",
    "plt.imshow(img);\n",
    "print(pytesseract.image_to_osd(img))\n",
    "```"
   ]
  },
  {
   "cell_type": "code",
   "execution_count": 19,
   "id": "59097404-6d97-425b-bb87-d949dfb735b1",
   "metadata": {},
   "outputs": [],
   "source": [
    "img = cv2.imread('images/OSD/book01.jpg')\n",
    "cv2.imshow('Test',img)\n",
    "cv2.waitKey(0)\n",
    "cv2.destroyAllWindows()\n"
   ]
  },
  {
   "cell_type": "code",
   "execution_count": 22,
   "id": "92c9e2a2-cde0-413a-a5c5-dbe6e5762308",
   "metadata": {},
   "outputs": [
    {
     "name": "stdout",
     "output_type": "stream",
     "text": [
      "Page number: 0\n",
      "Orientation in degrees: 0\n",
      "Rotate: 0\n",
      "Orientation confidence: 1.88\n",
      "Script: Latin\n",
      "Script confidence: 9.79\n",
      "\n"
     ]
    }
   ],
   "source": [
    "print(pytesseract.image_to_osd(img))"
   ]
  },
  {
   "cell_type": "code",
   "execution_count": null,
   "id": "77d0c9fc-ace8-4b31-8c42-957eb154295a",
   "metadata": {},
   "outputs": [],
   "source": []
  }
 ],
 "metadata": {
  "kernelspec": {
   "display_name": "Python 3 (ipykernel)",
   "language": "python",
   "name": "python3"
  },
  "language_info": {
   "codemirror_mode": {
    "name": "ipython",
    "version": 3
   },
   "file_extension": ".py",
   "mimetype": "text/x-python",
   "name": "python",
   "nbconvert_exporter": "python",
   "pygments_lexer": "ipython3",
   "version": "3.8.2"
  }
 },
 "nbformat": 4,
 "nbformat_minor": 5
}
